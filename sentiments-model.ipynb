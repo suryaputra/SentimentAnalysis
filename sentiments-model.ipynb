{
  "cells": [
    {
      "cell_type": "code",
      "source": [
        "# install and import necessary libraries.\n",
        "\n",
        "!pip install contractions\n",
        "\n",
        "import re, string, unicodedata                          # Import Regex, string and unicodedata.\n",
        "import contractions                                     # Import contractions library.\n",
        "from bs4 import BeautifulSoup                           # Import BeautifulSoup.\n",
        "\n",
        "import numpy as np                                      # Import numpy.\n",
        "import pandas as pd                                     # Import pandas.\n",
        "import nltk                                             # Import Natural Language Tool-Kit.\n",
        "\n",
        "nltk.download('stopwords')                              # Download Stopwords.\n",
        "nltk.download('punkt')\n",
        "nltk.download('wordnet')\n",
        "\n",
        "from nltk.corpus import stopwords                       # Import stopwords.\n",
        "from nltk.tokenize import word_tokenize, sent_tokenize  # Import Tokenizer.\n",
        "from nltk.stem.wordnet import WordNetLemmatizer         # Import Lemmatizer."
      ],
      "outputs": [
        {
          "output_type": "display_data",
          "data": {
            "application/vnd.livy.statement-meta+json": {
              "spark_pool": "Hackathon",
              "session_id": "4",
              "statement_id": 1,
              "state": "finished",
              "livy_statement_state": "available",
              "queued_time": "2022-10-07T08:04:16.5185406Z",
              "session_start_time": "2022-10-07T08:04:16.5588997Z",
              "execution_start_time": "2022-10-07T08:07:45.641841Z",
              "execution_finish_time": "2022-10-07T08:08:08.9145145Z",
              "spark_jobs": null
            },
            "text/plain": "StatementMeta(Hackathon, 4, 1, Finished, Available)"
          },
          "metadata": {}
        },
        {
          "output_type": "stream",
          "name": "stdout",
          "text": [
            "Collecting contractions\n  Downloading contractions-0.1.72-py2.py3-none-any.whl (8.3 kB)\nCollecting textsearch>=0.0.21\n  Downloading textsearch-0.0.24-py2.py3-none-any.whl (7.6 kB)\nCollecting anyascii\n  Downloading anyascii-0.3.1-py3-none-any.whl (287 kB)\n\u001b[K     |████████████████████████████████| 287 kB 32.0 MB/s eta 0:00:01\n\u001b[?25hCollecting pyahocorasick\n  Downloading pyahocorasick-1.4.4-cp38-cp38-manylinux_2_17_x86_64.manylinux2014_x86_64.whl (110 kB)\n\u001b[K     |████████████████████████████████| 110 kB 79.2 MB/s eta 0:00:01\n\u001b[?25hInstalling collected packages: pyahocorasick, anyascii, textsearch, contractions\nSuccessfully installed anyascii-0.3.1 contractions-0.1.72 pyahocorasick-1.4.4 textsearch-0.0.24\n"
          ]
        },
        {
          "output_type": "stream",
          "name": "stderr",
          "text": [
            "[nltk_data] Downloading package stopwords to /home/trusted-service-\n[nltk_data]     user/nltk_data...\n[nltk_data]   Unzipping corpora/stopwords.zip.\n[nltk_data] Downloading package punkt to /home/trusted-service-\n[nltk_data]     user/nltk_data...\n[nltk_data]   Unzipping tokenizers/punkt.zip.\n[nltk_data] Downloading package wordnet to /home/trusted-service-\n[nltk_data]     user/nltk_data...\n"
          ]
        }
      ],
      "execution_count": 1,
      "metadata": {
        "jupyter": {
          "outputs_hidden": true
        }
      }
    },
    {
      "cell_type": "markdown",
      "source": [
        "### **Reading the data.**"
      ],
      "metadata": {
        "nteract": {
          "transient": {
            "deleting": false
          }
        }
      }
    },
    {
      "cell_type": "code",
      "source": [
        "#df = pd.read_excel(\"Azure_Reviews.xlsx\")\r\n",
        "df = pd.read_excel(\"abfss://buffermgmt@buffermgmtstoragedev.dfs.core.windows.net/transformdata/hackathon/Reviews_DataSet.xlsx\")"
      ],
      "outputs": [
        {
          "output_type": "display_data",
          "data": {
            "application/vnd.livy.statement-meta+json": {
              "spark_pool": "Hackathon",
              "session_id": "4",
              "statement_id": 2,
              "state": "finished",
              "livy_statement_state": "available",
              "queued_time": "2022-10-07T08:04:16.545218Z",
              "session_start_time": null,
              "execution_start_time": "2022-10-07T08:08:09.0402966Z",
              "execution_finish_time": "2022-10-07T08:08:19.7376884Z",
              "spark_jobs": null
            },
            "text/plain": "StatementMeta(Hackathon, 4, 2, Finished, Available)"
          },
          "metadata": {}
        }
      ],
      "execution_count": 2,
      "metadata": {}
    },
    {
      "cell_type": "code",
      "source": [
        "print(df.shape)\n",
        "df.head(5)"
      ],
      "outputs": [
        {
          "output_type": "display_data",
          "data": {
            "application/vnd.livy.statement-meta+json": {
              "spark_pool": "Hackathon",
              "session_id": "4",
              "statement_id": 3,
              "state": "finished",
              "livy_statement_state": "available",
              "queued_time": "2022-10-07T08:04:16.5474192Z",
              "session_start_time": null,
              "execution_start_time": "2022-10-07T08:08:19.8849342Z",
              "execution_finish_time": "2022-10-07T08:08:20.0843939Z",
              "spark_jobs": null
            },
            "text/plain": "StatementMeta(Hackathon, 4, 3, Finished, Available)"
          },
          "metadata": {}
        },
        {
          "output_type": "stream",
          "name": "stdout",
          "text": [
            "(68, 2)\n"
          ]
        },
        {
          "output_type": "execute_result",
          "execution_count": 13,
          "data": {
            "text/plain": "                                             Reviews Sentiment\n0  Overall Comment:\"Microsoft Azure is the seamle...  Positive\n1  Azure is perfectly fitted for our organization...  Positive\n2  no not at all, I like Microsoft Azure with all...  Positive\n3  The user interface for Microsoft products is e...  Positive\n4  Microsoft Azure has 54 regions worldwide, with...  Negative",
            "text/html": "<div>\n<style scoped>\n    .dataframe tbody tr th:only-of-type {\n        vertical-align: middle;\n    }\n\n    .dataframe tbody tr th {\n        vertical-align: top;\n    }\n\n    .dataframe thead th {\n        text-align: right;\n    }\n</style>\n<table border=\"1\" class=\"dataframe\">\n  <thead>\n    <tr style=\"text-align: right;\">\n      <th></th>\n      <th>Reviews</th>\n      <th>Sentiment</th>\n    </tr>\n  </thead>\n  <tbody>\n    <tr>\n      <th>0</th>\n      <td>Overall Comment:\"Microsoft Azure is the seamle...</td>\n      <td>Positive</td>\n    </tr>\n    <tr>\n      <th>1</th>\n      <td>Azure is perfectly fitted for our organization...</td>\n      <td>Positive</td>\n    </tr>\n    <tr>\n      <th>2</th>\n      <td>no not at all, I like Microsoft Azure with all...</td>\n      <td>Positive</td>\n    </tr>\n    <tr>\n      <th>3</th>\n      <td>The user interface for Microsoft products is e...</td>\n      <td>Positive</td>\n    </tr>\n    <tr>\n      <th>4</th>\n      <td>Microsoft Azure has 54 regions worldwide, with...</td>\n      <td>Negative</td>\n    </tr>\n  </tbody>\n</table>\n</div>"
          },
          "metadata": {}
        }
      ],
      "execution_count": 3,
      "metadata": {}
    },
    {
      "cell_type": "markdown",
      "source": [
        "### Data Preprocessing and Cleansing\r\n",
        "- Removing special characters ,spaces & Numbers etc.\r\n",
        "- Removing stop words which are frequenctly repeated words in text like - A, To, The..\r\n",
        "- Lemmatization : Reduce inflectional words to their base form.\r\n",
        "- Since ML Models dont work directly on Text ,We are doing feature represtation to convert text into frequency of words."
      ],
      "metadata": {
        "nteract": {
          "transient": {
            "deleting": false
          }
        }
      }
    },
    {
      "cell_type": "code",
      "source": [
        "df.isnull().sum(axis=0)                                # Check for NULL values.\r\n",
        "pd.set_option('display.max_colwidth', None) # Display full dataframe information (Non-turncated Text column.)\r\n",
        "df.head()                                 # Check first 5 rows of data"
      ],
      "outputs": [
        {
          "output_type": "display_data",
          "data": {
            "application/vnd.livy.statement-meta+json": {
              "spark_pool": "Hackathon",
              "session_id": "4",
              "statement_id": 4,
              "state": "finished",
              "livy_statement_state": "available",
              "queued_time": "2022-10-07T08:04:16.5493905Z",
              "session_start_time": null,
              "execution_start_time": "2022-10-07T08:08:20.1952363Z",
              "execution_finish_time": "2022-10-07T08:08:20.445485Z",
              "spark_jobs": null
            },
            "text/plain": "StatementMeta(Hackathon, 4, 4, Finished, Available)"
          },
          "metadata": {}
        },
        {
          "output_type": "execute_result",
          "execution_count": 16,
          "data": {
            "text/plain": "                                                                                                                                                                                                                                                                                                                                                                                                                                                                                                                                                                                                                                                                                                                                                                                                                                                                                                                                                                                                                                                                                                                                                                                                                                                                                                                                                                                                                                                                                                                                                                                                                                                                                                              Reviews  \\\n0  Overall Comment:\"Microsoft Azure is the seamless public cloud platform that is most important for our overall cloud infrastructure and web applications. This cloud platform provides many features related to Big data, SQL, virtual machines, AI/ML, and many more and I must admit these all are super easy to use and very much effective. Azure provides free accounts to the new users and also provides some free credits to test this platform out and according to me, this is really an innovative approach. Azure deployment and integration are really easy, unlike the others. The support team helps us throughout the deployment and integration process and on the other hand, the maintenance of this cloud platform is also cost-effective. The pricing of this cloud platform is also attractive, they provide a pay-as-you-go feature as well as an enterprise discount option as well. using the pay-as-you-go, I can save my cloud cost as in this I need to pay for the usage only and don't need to commit to them in terms of volume and on the other hand for the higher discount I can choose the Enterprise discount option which provides more flexibility and savings. There is also an option for additional savings plans as well. The console of this platform is really great and user-friendly, using the console I can purchase the Azure services and be able to shut down the services as well whenever I want. Console provide me full information and report related to my usages and I can also create multiple Azure accounts and able to add them in an admin account. this is really simple with the Azure Console. hence my overall experience using Azure is great.\"   \n1                                                                                                                                                                                                                                                                                                                                                                                                                                                                                                                                                                                                                                                                                                                                                                                                                                                                                                                                                                                                                                                                                                                                                                                                                                                                                                                                                                                                                                                 Azure is perfectly fitted for our organization and for our needs, this is not creating any issue so far and we are really very happy with the overall output from this platform, hence at this time I have nothing to say related to the demerits of this platform.   \n2                                                                                                                                                                                                                                                                                                                                                                                                                                                                                                                                                                                                                                                                                                                                                                                                                                                                                                                                                                                                                                                                                                                                                                                                                                                                                                                                                                                                                                                                                                                                                                                                           no not at all, I like Microsoft Azure with all updates, it is the best cloud vendor I use ever in my life   \n3                                                                                                                                                                                                                                                                                                                                                                                                                                                                                                                                                                                                                                                                                                                                                                                                                                                                                                                                                                                                                                                                                                                                                           The user interface for Microsoft products is extremely user-friendly. If we get stuck on a critical issue, they help us out and fix it quickly. When you read the legal agreement that covers Azure's services, you'll notice that the uptime guarantee you're offered is 99.95 percent. Over the course of a year, that translates to around 4.5 hours of downtime in real-time hours. For the same price as Azure, comparable services from competing brands offer uptime percentages of 98 percent, 95 percent, and occasionally as low as 90 percent.   \n4                                                                                                                                                                                                                                                                                                                                                                                                                                                                                                                                                                                                                                                                                                                                                                                                                                                                                                                                                                                                                                                                                                                    Microsoft Azure has 54 regions worldwide, with availability in 140 countries when all announced regions are included. You're all set if you live in the United States, Europe, Australia, India, Japan, or China. Your company can benefit from quick data access. However, if you live in South America, you will only have access to one region, which is known as \"Brazil South.\" Africa has two announced regions, but none are operational as of yet. Canada has only two regions, both of which are located in the country's east. If there isn't a nearby region, speed becomes an issue.   \n\n  Sentiment  \n0  Positive  \n1  Positive  \n2  Positive  \n3  Positive  \n4  Negative  ",
            "text/html": "<div>\n<style scoped>\n    .dataframe tbody tr th:only-of-type {\n        vertical-align: middle;\n    }\n\n    .dataframe tbody tr th {\n        vertical-align: top;\n    }\n\n    .dataframe thead th {\n        text-align: right;\n    }\n</style>\n<table border=\"1\" class=\"dataframe\">\n  <thead>\n    <tr style=\"text-align: right;\">\n      <th></th>\n      <th>Reviews</th>\n      <th>Sentiment</th>\n    </tr>\n  </thead>\n  <tbody>\n    <tr>\n      <th>0</th>\n      <td>Overall Comment:\"Microsoft Azure is the seamless public cloud platform that is most important for our overall cloud infrastructure and web applications. This cloud platform provides many features related to Big data, SQL, virtual machines, AI/ML, and many more and I must admit these all are super easy to use and very much effective. Azure provides free accounts to the new users and also provides some free credits to test this platform out and according to me, this is really an innovative approach. Azure deployment and integration are really easy, unlike the others. The support team helps us throughout the deployment and integration process and on the other hand, the maintenance of this cloud platform is also cost-effective. The pricing of this cloud platform is also attractive, they provide a pay-as-you-go feature as well as an enterprise discount option as well. using the pay-as-you-go, I can save my cloud cost as in this I need to pay for the usage only and don't need to commit to them in terms of volume and on the other hand for the higher discount I can choose the Enterprise discount option which provides more flexibility and savings. There is also an option for additional savings plans as well. The console of this platform is really great and user-friendly, using the console I can purchase the Azure services and be able to shut down the services as well whenever I want. Console provide me full information and report related to my usages and I can also create multiple Azure accounts and able to add them in an admin account. this is really simple with the Azure Console. hence my overall experience using Azure is great.\"</td>\n      <td>Positive</td>\n    </tr>\n    <tr>\n      <th>1</th>\n      <td>Azure is perfectly fitted for our organization and for our needs, this is not creating any issue so far and we are really very happy with the overall output from this platform, hence at this time I have nothing to say related to the demerits of this platform.</td>\n      <td>Positive</td>\n    </tr>\n    <tr>\n      <th>2</th>\n      <td>no not at all, I like Microsoft Azure with all updates, it is the best cloud vendor I use ever in my life</td>\n      <td>Positive</td>\n    </tr>\n    <tr>\n      <th>3</th>\n      <td>The user interface for Microsoft products is extremely user-friendly. If we get stuck on a critical issue, they help us out and fix it quickly. When you read the legal agreement that covers Azure's services, you'll notice that the uptime guarantee you're offered is 99.95 percent. Over the course of a year, that translates to around 4.5 hours of downtime in real-time hours. For the same price as Azure, comparable services from competing brands offer uptime percentages of 98 percent, 95 percent, and occasionally as low as 90 percent.</td>\n      <td>Positive</td>\n    </tr>\n    <tr>\n      <th>4</th>\n      <td>Microsoft Azure has 54 regions worldwide, with availability in 140 countries when all announced regions are included. You're all set if you live in the United States, Europe, Australia, India, Japan, or China. Your company can benefit from quick data access. However, if you live in South America, you will only have access to one region, which is known as \"Brazil South.\" Africa has two announced regions, but none are operational as of yet. Canada has only two regions, both of which are located in the country's east. If there isn't a nearby region, speed becomes an issue.</td>\n      <td>Negative</td>\n    </tr>\n  </tbody>\n</table>\n</div>"
          },
          "metadata": {}
        }
      ],
      "execution_count": 4,
      "metadata": {
        "jupyter": {
          "outputs_hidden": true
        }
      }
    },
    {
      "cell_type": "code",
      "source": [
        "review_df = df[df['Sentiment'] != 'Neutral']\n",
        "print(review_df.shape)\n",
        "review_df.head(5)\n",
        "review_df[\"Sentiment\"].value_counts()"
      ],
      "outputs": [
        {
          "output_type": "display_data",
          "data": {
            "application/vnd.livy.statement-meta+json": {
              "spark_pool": "Hackathon",
              "session_id": "4",
              "statement_id": 5,
              "state": "finished",
              "livy_statement_state": "available",
              "queued_time": "2022-10-07T08:04:16.5513401Z",
              "session_start_time": null,
              "execution_start_time": "2022-10-07T08:08:20.5450121Z",
              "execution_finish_time": "2022-10-07T08:08:20.745304Z",
              "spark_jobs": null
            },
            "text/plain": "StatementMeta(Hackathon, 4, 5, Finished, Available)"
          },
          "metadata": {}
        },
        {
          "output_type": "stream",
          "name": "stdout",
          "text": [
            "(65, 2)\n"
          ]
        },
        {
          "output_type": "execute_result",
          "execution_count": 19,
          "data": {
            "text/plain": "Negative    33\nPositive    32\nName: Sentiment, dtype: int64"
          },
          "metadata": {}
        }
      ],
      "execution_count": 5,
      "metadata": {
        "jupyter": {
          "outputs_hidden": true
        }
      }
    },
    {
      "cell_type": "markdown",
      "source": [
        "### Text Beautification to remove HTML tags."
      ],
      "metadata": {
        "nteract": {
          "transient": {
            "deleting": false
          }
        }
      }
    },
    {
      "cell_type": "code",
      "source": [
        "def strip_html(text):\n",
        "    soup = BeautifulSoup(text, \"html.parser\")\n",
        "    return soup.get_text()\n",
        "\n",
        "review_df['Reviews'] = review_df['Reviews'].apply(lambda x: strip_html(x))\n",
        "review_df.head()"
      ],
      "outputs": [
        {
          "output_type": "display_data",
          "data": {
            "application/vnd.livy.statement-meta+json": {
              "spark_pool": "Hackathon",
              "session_id": "4",
              "statement_id": 6,
              "state": "finished",
              "livy_statement_state": "available",
              "queued_time": "2022-10-07T08:04:16.5537662Z",
              "session_start_time": null,
              "execution_start_time": "2022-10-07T08:08:20.8502643Z",
              "execution_finish_time": "2022-10-07T08:08:21.0230697Z",
              "spark_jobs": null
            },
            "text/plain": "StatementMeta(Hackathon, 4, 6, Finished, Available)"
          },
          "metadata": {}
        },
        {
          "output_type": "stream",
          "name": "stderr",
          "text": [
            "<ipython-input-6-3bd87395>:5: SettingWithCopyWarning: \nA value is trying to be set on a copy of a slice from a DataFrame.\nTry using .loc[row_indexer,col_indexer] = value instead\n\nSee the caveats in the documentation: https://pandas.pydata.org/pandas-docs/stable/user_guide/indexing.html#returning-a-view-versus-a-copy\n  review_df['Reviews'] = review_df['Reviews'].apply(lambda x: strip_html(x))\n"
          ]
        },
        {
          "output_type": "execute_result",
          "execution_count": 22,
          "data": {
            "text/plain": "                                                                                                                                                                                                                                                                                                                                                                                                                                                                                                                                                                                                                                                                                                                                                                                                                                                                                                                                                                                                                                                                                                                                                                                                                                                                                                                                                                                                                                                                                                                                                                                                                                                                                                              Reviews  \\\n0  Overall Comment:\"Microsoft Azure is the seamless public cloud platform that is most important for our overall cloud infrastructure and web applications. This cloud platform provides many features related to Big data, SQL, virtual machines, AI/ML, and many more and I must admit these all are super easy to use and very much effective. Azure provides free accounts to the new users and also provides some free credits to test this platform out and according to me, this is really an innovative approach. Azure deployment and integration are really easy, unlike the others. The support team helps us throughout the deployment and integration process and on the other hand, the maintenance of this cloud platform is also cost-effective. The pricing of this cloud platform is also attractive, they provide a pay-as-you-go feature as well as an enterprise discount option as well. using the pay-as-you-go, I can save my cloud cost as in this I need to pay for the usage only and don't need to commit to them in terms of volume and on the other hand for the higher discount I can choose the Enterprise discount option which provides more flexibility and savings. There is also an option for additional savings plans as well. The console of this platform is really great and user-friendly, using the console I can purchase the Azure services and be able to shut down the services as well whenever I want. Console provide me full information and report related to my usages and I can also create multiple Azure accounts and able to add them in an admin account. this is really simple with the Azure Console. hence my overall experience using Azure is great.\"   \n1                                                                                                                                                                                                                                                                                                                                                                                                                                                                                                                                                                                                                                                                                                                                                                                                                                                                                                                                                                                                                                                                                                                                                                                                                                                                                                                                                                                                                                                 Azure is perfectly fitted for our organization and for our needs, this is not creating any issue so far and we are really very happy with the overall output from this platform, hence at this time I have nothing to say related to the demerits of this platform.   \n2                                                                                                                                                                                                                                                                                                                                                                                                                                                                                                                                                                                                                                                                                                                                                                                                                                                                                                                                                                                                                                                                                                                                                                                                                                                                                                                                                                                                                                                                                                                                                                                                           no not at all, I like Microsoft Azure with all updates, it is the best cloud vendor I use ever in my life   \n3                                                                                                                                                                                                                                                                                                                                                                                                                                                                                                                                                                                                                                                                                                                                                                                                                                                                                                                                                                                                                                                                                                                                                           The user interface for Microsoft products is extremely user-friendly. If we get stuck on a critical issue, they help us out and fix it quickly. When you read the legal agreement that covers Azure's services, you'll notice that the uptime guarantee you're offered is 99.95 percent. Over the course of a year, that translates to around 4.5 hours of downtime in real-time hours. For the same price as Azure, comparable services from competing brands offer uptime percentages of 98 percent, 95 percent, and occasionally as low as 90 percent.   \n4                                                                                                                                                                                                                                                                                                                                                                                                                                                                                                                                                                                                                                                                                                                                                                                                                                                                                                                                                                                                                                                                                                                    Microsoft Azure has 54 regions worldwide, with availability in 140 countries when all announced regions are included. You're all set if you live in the United States, Europe, Australia, India, Japan, or China. Your company can benefit from quick data access. However, if you live in South America, you will only have access to one region, which is known as \"Brazil South.\" Africa has two announced regions, but none are operational as of yet. Canada has only two regions, both of which are located in the country's east. If there isn't a nearby region, speed becomes an issue.   \n\n  Sentiment  \n0  Positive  \n1  Positive  \n2  Positive  \n3  Positive  \n4  Negative  ",
            "text/html": "<div>\n<style scoped>\n    .dataframe tbody tr th:only-of-type {\n        vertical-align: middle;\n    }\n\n    .dataframe tbody tr th {\n        vertical-align: top;\n    }\n\n    .dataframe thead th {\n        text-align: right;\n    }\n</style>\n<table border=\"1\" class=\"dataframe\">\n  <thead>\n    <tr style=\"text-align: right;\">\n      <th></th>\n      <th>Reviews</th>\n      <th>Sentiment</th>\n    </tr>\n  </thead>\n  <tbody>\n    <tr>\n      <th>0</th>\n      <td>Overall Comment:\"Microsoft Azure is the seamless public cloud platform that is most important for our overall cloud infrastructure and web applications. This cloud platform provides many features related to Big data, SQL, virtual machines, AI/ML, and many more and I must admit these all are super easy to use and very much effective. Azure provides free accounts to the new users and also provides some free credits to test this platform out and according to me, this is really an innovative approach. Azure deployment and integration are really easy, unlike the others. The support team helps us throughout the deployment and integration process and on the other hand, the maintenance of this cloud platform is also cost-effective. The pricing of this cloud platform is also attractive, they provide a pay-as-you-go feature as well as an enterprise discount option as well. using the pay-as-you-go, I can save my cloud cost as in this I need to pay for the usage only and don't need to commit to them in terms of volume and on the other hand for the higher discount I can choose the Enterprise discount option which provides more flexibility and savings. There is also an option for additional savings plans as well. The console of this platform is really great and user-friendly, using the console I can purchase the Azure services and be able to shut down the services as well whenever I want. Console provide me full information and report related to my usages and I can also create multiple Azure accounts and able to add them in an admin account. this is really simple with the Azure Console. hence my overall experience using Azure is great.\"</td>\n      <td>Positive</td>\n    </tr>\n    <tr>\n      <th>1</th>\n      <td>Azure is perfectly fitted for our organization and for our needs, this is not creating any issue so far and we are really very happy with the overall output from this platform, hence at this time I have nothing to say related to the demerits of this platform.</td>\n      <td>Positive</td>\n    </tr>\n    <tr>\n      <th>2</th>\n      <td>no not at all, I like Microsoft Azure with all updates, it is the best cloud vendor I use ever in my life</td>\n      <td>Positive</td>\n    </tr>\n    <tr>\n      <th>3</th>\n      <td>The user interface for Microsoft products is extremely user-friendly. If we get stuck on a critical issue, they help us out and fix it quickly. When you read the legal agreement that covers Azure's services, you'll notice that the uptime guarantee you're offered is 99.95 percent. Over the course of a year, that translates to around 4.5 hours of downtime in real-time hours. For the same price as Azure, comparable services from competing brands offer uptime percentages of 98 percent, 95 percent, and occasionally as low as 90 percent.</td>\n      <td>Positive</td>\n    </tr>\n    <tr>\n      <th>4</th>\n      <td>Microsoft Azure has 54 regions worldwide, with availability in 140 countries when all announced regions are included. You're all set if you live in the United States, Europe, Australia, India, Japan, or China. Your company can benefit from quick data access. However, if you live in South America, you will only have access to one region, which is known as \"Brazil South.\" Africa has two announced regions, but none are operational as of yet. Canada has only two regions, both of which are located in the country's east. If there isn't a nearby region, speed becomes an issue.</td>\n      <td>Negative</td>\n    </tr>\n  </tbody>\n</table>\n</div>"
          },
          "metadata": {}
        }
      ],
      "execution_count": 6,
      "metadata": {
        "jupyter": {
          "outputs_hidden": true
        }
      }
    },
    {
      "cell_type": "code",
      "source": [
        "def replace_contractions(text):\n",
        "    \"\"\"Replace contractions in string of text\"\"\"\n",
        "    return contractions.fix(text)\n",
        "\n",
        "review_df['Reviews'] = review_df['Reviews'].apply(lambda x: replace_contractions(x))\n",
        "review_df.head()"
      ],
      "outputs": [
        {
          "output_type": "display_data",
          "data": {
            "application/vnd.livy.statement-meta+json": {
              "spark_pool": "Hackathon",
              "session_id": "4",
              "statement_id": 7,
              "state": "finished",
              "livy_statement_state": "available",
              "queued_time": "2022-10-07T08:04:16.5571079Z",
              "session_start_time": null,
              "execution_start_time": "2022-10-07T08:08:21.1424372Z",
              "execution_finish_time": "2022-10-07T08:08:21.2958894Z",
              "spark_jobs": null
            },
            "text/plain": "StatementMeta(Hackathon, 4, 7, Finished, Available)"
          },
          "metadata": {}
        },
        {
          "output_type": "stream",
          "name": "stderr",
          "text": [
            "<ipython-input-7-3bd87395>:5: SettingWithCopyWarning: \nA value is trying to be set on a copy of a slice from a DataFrame.\nTry using .loc[row_indexer,col_indexer] = value instead\n\nSee the caveats in the documentation: https://pandas.pydata.org/pandas-docs/stable/user_guide/indexing.html#returning-a-view-versus-a-copy\n  review_df['Reviews'] = review_df['Reviews'].apply(lambda x: replace_contractions(x))\n"
          ]
        },
        {
          "output_type": "execute_result",
          "execution_count": 25,
          "data": {
            "text/plain": "                                                                                                                                                                                                                                                                                                                                                                                                                                                                                                                                                                                                                                                                                                                                                                                                                                                                                                                                                                                                                                                                                                                                                                                                                                                                                                                                                                                                                                                                                                                                                                                                                                                                                                               Reviews  \\\n0  Overall Comment:\"Microsoft Azure is the seamless public cloud platform that is most important for our overall cloud infrastructure and web applications. This cloud platform provides many features related to Big data, SQL, virtual machines, AI/ML, and many more and I must admit these all are super easy to use and very much effective. Azure provides free accounts to the new users and also provides some free credits to test this platform out and according to me, this is really an innovative approach. Azure deployment and integration are really easy, unlike the others. The support team helps us throughout the deployment and integration process and on the other hand, the maintenance of this cloud platform is also cost-effective. The pricing of this cloud platform is also attractive, they provide a pay-as-you-go feature as well as an enterprise discount option as well. using the pay-as-you-go, I can save my cloud cost as in this I need to pay for the usage only and do not need to commit to them in terms of volume and on the other hand for the higher discount I can choose the Enterprise discount option which provides more flexibility and savings. There is also an option for additional savings plans as well. The console of this platform is really great and user-friendly, using the console I can purchase the Azure services and be able to shut down the services as well whenever I want. Console provide me full information and report related to my usages and I can also create multiple Azure accounts and able to add them in an admin account. this is really simple with the Azure Console. hence my overall experience using Azure is great.\"   \n1                                                                                                                                                                                                                                                                                                                                                                                                                                                                                                                                                                                                                                                                                                                                                                                                                                                                                                                                                                                                                                                                                                                                                                                                                                                                                                                                                                                                                                                  Azure is perfectly fitted for our organization and for our needs, this is not creating any issue so far and we are really very happy with the overall output from this platform, hence at this time I have nothing to say related to the demerits of this platform.   \n2                                                                                                                                                                                                                                                                                                                                                                                                                                                                                                                                                                                                                                                                                                                                                                                                                                                                                                                                                                                                                                                                                                                                                                                                                                                                                                                                                                                                                                                                                                                                                                                                            no not at all, I like Microsoft Azure with all updates, it is the best cloud vendor I use ever in my life   \n3                                                                                                                                                                                                                                                                                                                                                                                                                                                                                                                                                                                                                                                                                                                                                                                                                                                                                                                                                                                                                                                                                                                                                         The user interface for Microsoft products is extremely user-friendly. If we get stuck on a critical issue, they help us out and fix it quickly. When you read the legal agreement that covers Azure's services, you will notice that the uptime guarantee you are offered is 99.95 percent. Over the course of a year, that translates to around 4.5 hours of downtime in real-time hours. For the same price as Azure, comparable services from competing brands offer uptime percentages of 98 percent, 95 percent, and occasionally as low as 90 percent.   \n4                                                                                                                                                                                                                                                                                                                                                                                                                                                                                                                                                                                                                                                                                                                                                                                                                                                                                                                                                                                                                                                                                                                   Microsoft Azure has 54 regions worldwide, with availability in 140 countries when all announced regions are included. You are all set if you live in the United States, Europe, Australia, India, Japan, or China. Your company can benefit from quick data access. However, if you live in South America, you will only have access to one region, which is known as \"Brazil South.\" Africa has two announced regions, but none are operational as of yet. Canada has only two regions, both of which are located in the country's east. If there is not a nearby region, speed becomes an issue.   \n\n  Sentiment  \n0  Positive  \n1  Positive  \n2  Positive  \n3  Positive  \n4  Negative  ",
            "text/html": "<div>\n<style scoped>\n    .dataframe tbody tr th:only-of-type {\n        vertical-align: middle;\n    }\n\n    .dataframe tbody tr th {\n        vertical-align: top;\n    }\n\n    .dataframe thead th {\n        text-align: right;\n    }\n</style>\n<table border=\"1\" class=\"dataframe\">\n  <thead>\n    <tr style=\"text-align: right;\">\n      <th></th>\n      <th>Reviews</th>\n      <th>Sentiment</th>\n    </tr>\n  </thead>\n  <tbody>\n    <tr>\n      <th>0</th>\n      <td>Overall Comment:\"Microsoft Azure is the seamless public cloud platform that is most important for our overall cloud infrastructure and web applications. This cloud platform provides many features related to Big data, SQL, virtual machines, AI/ML, and many more and I must admit these all are super easy to use and very much effective. Azure provides free accounts to the new users and also provides some free credits to test this platform out and according to me, this is really an innovative approach. Azure deployment and integration are really easy, unlike the others. The support team helps us throughout the deployment and integration process and on the other hand, the maintenance of this cloud platform is also cost-effective. The pricing of this cloud platform is also attractive, they provide a pay-as-you-go feature as well as an enterprise discount option as well. using the pay-as-you-go, I can save my cloud cost as in this I need to pay for the usage only and do not need to commit to them in terms of volume and on the other hand for the higher discount I can choose the Enterprise discount option which provides more flexibility and savings. There is also an option for additional savings plans as well. The console of this platform is really great and user-friendly, using the console I can purchase the Azure services and be able to shut down the services as well whenever I want. Console provide me full information and report related to my usages and I can also create multiple Azure accounts and able to add them in an admin account. this is really simple with the Azure Console. hence my overall experience using Azure is great.\"</td>\n      <td>Positive</td>\n    </tr>\n    <tr>\n      <th>1</th>\n      <td>Azure is perfectly fitted for our organization and for our needs, this is not creating any issue so far and we are really very happy with the overall output from this platform, hence at this time I have nothing to say related to the demerits of this platform.</td>\n      <td>Positive</td>\n    </tr>\n    <tr>\n      <th>2</th>\n      <td>no not at all, I like Microsoft Azure with all updates, it is the best cloud vendor I use ever in my life</td>\n      <td>Positive</td>\n    </tr>\n    <tr>\n      <th>3</th>\n      <td>The user interface for Microsoft products is extremely user-friendly. If we get stuck on a critical issue, they help us out and fix it quickly. When you read the legal agreement that covers Azure's services, you will notice that the uptime guarantee you are offered is 99.95 percent. Over the course of a year, that translates to around 4.5 hours of downtime in real-time hours. For the same price as Azure, comparable services from competing brands offer uptime percentages of 98 percent, 95 percent, and occasionally as low as 90 percent.</td>\n      <td>Positive</td>\n    </tr>\n    <tr>\n      <th>4</th>\n      <td>Microsoft Azure has 54 regions worldwide, with availability in 140 countries when all announced regions are included. You are all set if you live in the United States, Europe, Australia, India, Japan, or China. Your company can benefit from quick data access. However, if you live in South America, you will only have access to one region, which is known as \"Brazil South.\" Africa has two announced regions, but none are operational as of yet. Canada has only two regions, both of which are located in the country's east. If there is not a nearby region, speed becomes an issue.</td>\n      <td>Negative</td>\n    </tr>\n  </tbody>\n</table>\n</div>"
          },
          "metadata": {}
        }
      ],
      "execution_count": 7,
      "metadata": {
        "jupyter": {
          "outputs_hidden": true
        }
      }
    },
    {
      "cell_type": "code",
      "source": [
        "def remove_numbers(text):\n",
        "  text = re.sub(r'\\d+', '', text)\n",
        "  return text\n",
        "\n",
        "review_df['Reviews'] = review_df['Reviews'].apply(lambda x: remove_numbers(x))\n",
        "review_df.head()"
      ],
      "outputs": [
        {
          "output_type": "display_data",
          "data": {
            "application/vnd.livy.statement-meta+json": {
              "spark_pool": "Hackathon",
              "session_id": "4",
              "statement_id": 8,
              "state": "finished",
              "livy_statement_state": "available",
              "queued_time": "2022-10-07T08:04:16.5599259Z",
              "session_start_time": null,
              "execution_start_time": "2022-10-07T08:08:21.4064587Z",
              "execution_finish_time": "2022-10-07T08:08:21.5986556Z",
              "spark_jobs": null
            },
            "text/plain": "StatementMeta(Hackathon, 4, 8, Finished, Available)"
          },
          "metadata": {}
        },
        {
          "output_type": "stream",
          "name": "stderr",
          "text": [
            "<ipython-input-8-3bd87395>:5: SettingWithCopyWarning: \nA value is trying to be set on a copy of a slice from a DataFrame.\nTry using .loc[row_indexer,col_indexer] = value instead\n\nSee the caveats in the documentation: https://pandas.pydata.org/pandas-docs/stable/user_guide/indexing.html#returning-a-view-versus-a-copy\n  review_df['Reviews'] = review_df['Reviews'].apply(lambda x: remove_numbers(x))\n"
          ]
        },
        {
          "output_type": "execute_result",
          "execution_count": 28,
          "data": {
            "text/plain": "                                                                                                                                                                                                                                                                                                                                                                                                                                                                                                                                                                                                                                                                                                                                                                                                                                                                                                                                                                                                                                                                                                                                                                                                                                                                                                                                                                                                                                                                                                                                                                                                                                                                                                               Reviews  \\\n0  Overall Comment:\"Microsoft Azure is the seamless public cloud platform that is most important for our overall cloud infrastructure and web applications. This cloud platform provides many features related to Big data, SQL, virtual machines, AI/ML, and many more and I must admit these all are super easy to use and very much effective. Azure provides free accounts to the new users and also provides some free credits to test this platform out and according to me, this is really an innovative approach. Azure deployment and integration are really easy, unlike the others. The support team helps us throughout the deployment and integration process and on the other hand, the maintenance of this cloud platform is also cost-effective. The pricing of this cloud platform is also attractive, they provide a pay-as-you-go feature as well as an enterprise discount option as well. using the pay-as-you-go, I can save my cloud cost as in this I need to pay for the usage only and do not need to commit to them in terms of volume and on the other hand for the higher discount I can choose the Enterprise discount option which provides more flexibility and savings. There is also an option for additional savings plans as well. The console of this platform is really great and user-friendly, using the console I can purchase the Azure services and be able to shut down the services as well whenever I want. Console provide me full information and report related to my usages and I can also create multiple Azure accounts and able to add them in an admin account. this is really simple with the Azure Console. hence my overall experience using Azure is great.\"   \n1                                                                                                                                                                                                                                                                                                                                                                                                                                                                                                                                                                                                                                                                                                                                                                                                                                                                                                                                                                                                                                                                                                                                                                                                                                                                                                                                                                                                                                                  Azure is perfectly fitted for our organization and for our needs, this is not creating any issue so far and we are really very happy with the overall output from this platform, hence at this time I have nothing to say related to the demerits of this platform.   \n2                                                                                                                                                                                                                                                                                                                                                                                                                                                                                                                                                                                                                                                                                                                                                                                                                                                                                                                                                                                                                                                                                                                                                                                                                                                                                                                                                                                                                                                                                                                                                                                                            no not at all, I like Microsoft Azure with all updates, it is the best cloud vendor I use ever in my life   \n3                                                                                                                                                                                                                                                                                                                                                                                                                                                                                                                                                                                                                                                                                                                                                                                                                                                                                                                                                                                                                                                                                                                                                                     The user interface for Microsoft products is extremely user-friendly. If we get stuck on a critical issue, they help us out and fix it quickly. When you read the legal agreement that covers Azure's services, you will notice that the uptime guarantee you are offered is . percent. Over the course of a year, that translates to around . hours of downtime in real-time hours. For the same price as Azure, comparable services from competing brands offer uptime percentages of  percent,  percent, and occasionally as low as  percent.   \n4                                                                                                                                                                                                                                                                                                                                                                                                                                                                                                                                                                                                                                                                                                                                                                                                                                                                                                                                                                                                                                                                                                                        Microsoft Azure has  regions worldwide, with availability in  countries when all announced regions are included. You are all set if you live in the United States, Europe, Australia, India, Japan, or China. Your company can benefit from quick data access. However, if you live in South America, you will only have access to one region, which is known as \"Brazil South.\" Africa has two announced regions, but none are operational as of yet. Canada has only two regions, both of which are located in the country's east. If there is not a nearby region, speed becomes an issue.   \n\n  Sentiment  \n0  Positive  \n1  Positive  \n2  Positive  \n3  Positive  \n4  Negative  ",
            "text/html": "<div>\n<style scoped>\n    .dataframe tbody tr th:only-of-type {\n        vertical-align: middle;\n    }\n\n    .dataframe tbody tr th {\n        vertical-align: top;\n    }\n\n    .dataframe thead th {\n        text-align: right;\n    }\n</style>\n<table border=\"1\" class=\"dataframe\">\n  <thead>\n    <tr style=\"text-align: right;\">\n      <th></th>\n      <th>Reviews</th>\n      <th>Sentiment</th>\n    </tr>\n  </thead>\n  <tbody>\n    <tr>\n      <th>0</th>\n      <td>Overall Comment:\"Microsoft Azure is the seamless public cloud platform that is most important for our overall cloud infrastructure and web applications. This cloud platform provides many features related to Big data, SQL, virtual machines, AI/ML, and many more and I must admit these all are super easy to use and very much effective. Azure provides free accounts to the new users and also provides some free credits to test this platform out and according to me, this is really an innovative approach. Azure deployment and integration are really easy, unlike the others. The support team helps us throughout the deployment and integration process and on the other hand, the maintenance of this cloud platform is also cost-effective. The pricing of this cloud platform is also attractive, they provide a pay-as-you-go feature as well as an enterprise discount option as well. using the pay-as-you-go, I can save my cloud cost as in this I need to pay for the usage only and do not need to commit to them in terms of volume and on the other hand for the higher discount I can choose the Enterprise discount option which provides more flexibility and savings. There is also an option for additional savings plans as well. The console of this platform is really great and user-friendly, using the console I can purchase the Azure services and be able to shut down the services as well whenever I want. Console provide me full information and report related to my usages and I can also create multiple Azure accounts and able to add them in an admin account. this is really simple with the Azure Console. hence my overall experience using Azure is great.\"</td>\n      <td>Positive</td>\n    </tr>\n    <tr>\n      <th>1</th>\n      <td>Azure is perfectly fitted for our organization and for our needs, this is not creating any issue so far and we are really very happy with the overall output from this platform, hence at this time I have nothing to say related to the demerits of this platform.</td>\n      <td>Positive</td>\n    </tr>\n    <tr>\n      <th>2</th>\n      <td>no not at all, I like Microsoft Azure with all updates, it is the best cloud vendor I use ever in my life</td>\n      <td>Positive</td>\n    </tr>\n    <tr>\n      <th>3</th>\n      <td>The user interface for Microsoft products is extremely user-friendly. If we get stuck on a critical issue, they help us out and fix it quickly. When you read the legal agreement that covers Azure's services, you will notice that the uptime guarantee you are offered is . percent. Over the course of a year, that translates to around . hours of downtime in real-time hours. For the same price as Azure, comparable services from competing brands offer uptime percentages of  percent,  percent, and occasionally as low as  percent.</td>\n      <td>Positive</td>\n    </tr>\n    <tr>\n      <th>4</th>\n      <td>Microsoft Azure has  regions worldwide, with availability in  countries when all announced regions are included. You are all set if you live in the United States, Europe, Australia, India, Japan, or China. Your company can benefit from quick data access. However, if you live in South America, you will only have access to one region, which is known as \"Brazil South.\" Africa has two announced regions, but none are operational as of yet. Canada has only two regions, both of which are located in the country's east. If there is not a nearby region, speed becomes an issue.</td>\n      <td>Negative</td>\n    </tr>\n  </tbody>\n</table>\n</div>"
          },
          "metadata": {}
        }
      ],
      "execution_count": 8,
      "metadata": {
        "jupyter": {
          "outputs_hidden": true
        }
      }
    },
    {
      "cell_type": "code",
      "source": [
        "review_df['Reviews'] = review_df.apply(lambda row: nltk.word_tokenize(row['Reviews']), axis=1) # Tokenization of data\n"
      ],
      "outputs": [
        {
          "output_type": "display_data",
          "data": {
            "application/vnd.livy.statement-meta+json": {
              "spark_pool": "Hackathon",
              "session_id": "4",
              "statement_id": 9,
              "state": "finished",
              "livy_statement_state": "available",
              "queued_time": "2022-10-07T08:04:16.5630218Z",
              "session_start_time": null,
              "execution_start_time": "2022-10-07T08:08:21.695171Z",
              "execution_finish_time": "2022-10-07T08:08:21.8726998Z",
              "spark_jobs": null
            },
            "text/plain": "StatementMeta(Hackathon, 4, 9, Finished, Available)"
          },
          "metadata": {}
        },
        {
          "output_type": "stream",
          "name": "stderr",
          "text": [
            "<ipython-input-9-3bd87395>:1: SettingWithCopyWarning: \nA value is trying to be set on a copy of a slice from a DataFrame.\nTry using .loc[row_indexer,col_indexer] = value instead\n\nSee the caveats in the documentation: https://pandas.pydata.org/pandas-docs/stable/user_guide/indexing.html#returning-a-view-versus-a-copy\n  review_df['Reviews'] = review_df.apply(lambda row: nltk.word_tokenize(row['Reviews']), axis=1) # Tokenization of data\n"
          ]
        }
      ],
      "execution_count": 9,
      "metadata": {
        "jupyter": {
          "outputs_hidden": true
        }
      }
    },
    {
      "cell_type": "code",
      "source": [
        "review_df.head()           "
      ],
      "outputs": [
        {
          "output_type": "display_data",
          "data": {
            "application/vnd.livy.statement-meta+json": {
              "spark_pool": "Hackathon",
              "session_id": "4",
              "statement_id": 10,
              "state": "finished",
              "livy_statement_state": "available",
              "queued_time": "2022-10-07T08:04:16.5701815Z",
              "session_start_time": null,
              "execution_start_time": "2022-10-07T08:08:21.9723996Z",
              "execution_finish_time": "2022-10-07T08:08:22.1433541Z",
              "spark_jobs": null
            },
            "text/plain": "StatementMeta(Hackathon, 4, 10, Finished, Available)"
          },
          "metadata": {}
        },
        {
          "output_type": "execute_result",
          "execution_count": 34,
          "data": {
            "text/plain": "                                                                                                                                                                                                                                                                                                                                                                                                                                                                                                                                                                                                                                                                                         Reviews  \\\n0  [Overall, Comment, :, '', Microsoft, Azure, is, the, seamless, public, cloud, platform, that, is, most, important, for, our, overall, cloud, infrastructure, and, web, applications, ., This, cloud, platform, provides, many, features, related, to, Big, data, ,, SQL, ,, virtual, machines, ,, AI/ML, ,, and, many, more, and, I, must, admit, these, all, are, super, easy, to, use, and, very, much, effective, ., Azure, provides, free, accounts, to, the, new, users, and, also, provides, some, free, credits, to, test, this, platform, out, and, according, to, me, ,, this, is, really, an, innovative, approach, ., Azure, deployment, and, integration, are, really, easy, ...]   \n1                                                                                                                                                                                                                                                                                                                                                                     [Azure, is, perfectly, fitted, for, our, organization, and, for, our, needs, ,, this, is, not, creating, any, issue, so, far, and, we, are, really, very, happy, with, the, overall, output, from, this, platform, ,, hence, at, this, time, I, have, nothing, to, say, related, to, the, demerits, of, this, platform, .]   \n2                                                                                                                                                                                                                                                                                                                                                                                                                                                                                                                                                          [no, not, at, all, ,, I, like, Microsoft, Azure, with, all, updates, ,, it, is, the, best, cloud, vendor, I, use, ever, in, my, life]   \n3                                 [The, user, interface, for, Microsoft, products, is, extremely, user-friendly, ., If, we, get, stuck, on, a, critical, issue, ,, they, help, us, out, and, fix, it, quickly, ., When, you, read, the, legal, agreement, that, covers, Azure, 's, services, ,, you, will, notice, that, the, uptime, guarantee, you, are, offered, is, ., percent, ., Over, the, course, of, a, year, ,, that, translates, to, around, ., hours, of, downtime, in, real-time, hours, ., For, the, same, price, as, Azure, ,, comparable, services, from, competing, brands, offer, uptime, percentages, of, percent, ,, percent, ,, and, occasionally, as, low, as, percent, .]   \n4                                                              [Microsoft, Azure, has, regions, worldwide, ,, with, availability, in, countries, when, all, announced, regions, are, included, ., You, are, all, set, if, you, live, in, the, United, States, ,, Europe, ,, Australia, ,, India, ,, Japan, ,, or, China, ., Your, company, can, benefit, from, quick, data, access, ., However, ,, if, you, live, in, South, America, ,, you, will, only, have, access, to, one, region, ,, which, is, known, as, ``, Brazil, South, ., '', Africa, has, two, announced, regions, ,, but, none, are, operational, as, of, yet, ., Canada, has, only, two, regions, ,, both, of, which, are, ...]   \n\n  Sentiment  \n0  Positive  \n1  Positive  \n2  Positive  \n3  Positive  \n4  Negative  ",
            "text/html": "<div>\n<style scoped>\n    .dataframe tbody tr th:only-of-type {\n        vertical-align: middle;\n    }\n\n    .dataframe tbody tr th {\n        vertical-align: top;\n    }\n\n    .dataframe thead th {\n        text-align: right;\n    }\n</style>\n<table border=\"1\" class=\"dataframe\">\n  <thead>\n    <tr style=\"text-align: right;\">\n      <th></th>\n      <th>Reviews</th>\n      <th>Sentiment</th>\n    </tr>\n  </thead>\n  <tbody>\n    <tr>\n      <th>0</th>\n      <td>[Overall, Comment, :, '', Microsoft, Azure, is, the, seamless, public, cloud, platform, that, is, most, important, for, our, overall, cloud, infrastructure, and, web, applications, ., This, cloud, platform, provides, many, features, related, to, Big, data, ,, SQL, ,, virtual, machines, ,, AI/ML, ,, and, many, more, and, I, must, admit, these, all, are, super, easy, to, use, and, very, much, effective, ., Azure, provides, free, accounts, to, the, new, users, and, also, provides, some, free, credits, to, test, this, platform, out, and, according, to, me, ,, this, is, really, an, innovative, approach, ., Azure, deployment, and, integration, are, really, easy, ...]</td>\n      <td>Positive</td>\n    </tr>\n    <tr>\n      <th>1</th>\n      <td>[Azure, is, perfectly, fitted, for, our, organization, and, for, our, needs, ,, this, is, not, creating, any, issue, so, far, and, we, are, really, very, happy, with, the, overall, output, from, this, platform, ,, hence, at, this, time, I, have, nothing, to, say, related, to, the, demerits, of, this, platform, .]</td>\n      <td>Positive</td>\n    </tr>\n    <tr>\n      <th>2</th>\n      <td>[no, not, at, all, ,, I, like, Microsoft, Azure, with, all, updates, ,, it, is, the, best, cloud, vendor, I, use, ever, in, my, life]</td>\n      <td>Positive</td>\n    </tr>\n    <tr>\n      <th>3</th>\n      <td>[The, user, interface, for, Microsoft, products, is, extremely, user-friendly, ., If, we, get, stuck, on, a, critical, issue, ,, they, help, us, out, and, fix, it, quickly, ., When, you, read, the, legal, agreement, that, covers, Azure, 's, services, ,, you, will, notice, that, the, uptime, guarantee, you, are, offered, is, ., percent, ., Over, the, course, of, a, year, ,, that, translates, to, around, ., hours, of, downtime, in, real-time, hours, ., For, the, same, price, as, Azure, ,, comparable, services, from, competing, brands, offer, uptime, percentages, of, percent, ,, percent, ,, and, occasionally, as, low, as, percent, .]</td>\n      <td>Positive</td>\n    </tr>\n    <tr>\n      <th>4</th>\n      <td>[Microsoft, Azure, has, regions, worldwide, ,, with, availability, in, countries, when, all, announced, regions, are, included, ., You, are, all, set, if, you, live, in, the, United, States, ,, Europe, ,, Australia, ,, India, ,, Japan, ,, or, China, ., Your, company, can, benefit, from, quick, data, access, ., However, ,, if, you, live, in, South, America, ,, you, will, only, have, access, to, one, region, ,, which, is, known, as, ``, Brazil, South, ., '', Africa, has, two, announced, regions, ,, but, none, are, operational, as, of, yet, ., Canada, has, only, two, regions, ,, both, of, which, are, ...]</td>\n      <td>Negative</td>\n    </tr>\n  </tbody>\n</table>\n</div>"
          },
          "metadata": {}
        }
      ],
      "execution_count": 10,
      "metadata": {
        "jupyter": {
          "outputs_hidden": true
        }
      }
    },
    {
      "cell_type": "markdown",
      "source": [
        "### Set custom stop-word's list as not, couldn't etc. words matter in Sentiment, so not removing them from original data."
      ],
      "metadata": {
        "nteract": {
          "transient": {
            "deleting": false
          }
        }
      }
    },
    {
      "cell_type": "code",
      "source": [
        "stopwords = stopwords.words('english')\n",
        "\n",
        "customlist = ['not', \"couldn't\", 'didn', \"didn't\", 'doesn', \"doesn't\", 'hadn', \"hadn't\", 'hasn',\n",
        "        \"hasn't\", 'haven', \"haven't\", 'isn', \"isn't\", 'ma', 'mightn', \"mightn't\", 'mustn',\n",
        "        \"mustn't\", 'needn', \"needn't\", 'shan', \"shan't\", 'shouldn', \"shouldn't\", 'wasn',\n",
        "        \"wasn't\", 'weren', \"weren't\", 'won', \"won't\", 'wouldn', \"wouldn't\",'get','find']\n",
        "\n",
        "# Set custom stop-word's list as not, couldn't etc. words matter in Sentiment, so not removing them from original data.\n",
        "\n",
        "stopwords = list(set(stopwords) - set(customlist))                              "
      ],
      "outputs": [
        {
          "output_type": "display_data",
          "data": {
            "application/vnd.livy.statement-meta+json": {
              "spark_pool": "Hackathon",
              "session_id": "4",
              "statement_id": 11,
              "state": "finished",
              "livy_statement_state": "available",
              "queued_time": "2022-10-07T08:04:16.573152Z",
              "session_start_time": null,
              "execution_start_time": "2022-10-07T08:08:22.3444658Z",
              "execution_finish_time": "2022-10-07T08:08:22.5919409Z",
              "spark_jobs": null
            },
            "text/plain": "StatementMeta(Hackathon, 4, 11, Finished, Available)"
          },
          "metadata": {}
        }
      ],
      "execution_count": 11,
      "metadata": {}
    },
    {
      "cell_type": "markdown",
      "source": [
        "**Lemmatization : Reduce inflectional words to their base form.**"
      ],
      "metadata": {
        "nteract": {
          "transient": {
            "deleting": false
          }
        }
      }
    },
    {
      "cell_type": "code",
      "source": [
        "lemmatizer = WordNetLemmatizer()\n",
        "\n",
        "def remove_non_ascii(words):\n",
        "    \"\"\"Remove non-ASCII characters from list of tokenized words\"\"\"\n",
        "    new_words = []\n",
        "    for word in words:\n",
        "        new_word = unicodedata.normalize('NFKD', word).encode('ascii', 'ignore').decode('utf-8', 'ignore')\n",
        "        new_words.append(new_word)\n",
        "    return new_words\n",
        "\n",
        "def to_lowercase(words):\n",
        "    \"\"\"Convert all characters to lowercase from list of tokenized words\"\"\"\n",
        "    new_words = []\n",
        "    for word in words:\n",
        "        new_word = word.lower()\n",
        "        new_words.append(new_word)\n",
        "    return new_words\n",
        "\n",
        "def remove_punctuation(words):\n",
        "    \"\"\"Remove punctuation from list of tokenized words\"\"\"\n",
        "    new_words = []\n",
        "    for word in words:\n",
        "        new_word = re.sub(r'[^\\w\\s]', '', word)\n",
        "        if new_word != '':\n",
        "            new_words.append(new_word)\n",
        "    return new_words\n",
        "\n",
        "def remove_stopwords(words):\n",
        "    \"\"\"Remove stop words from list of tokenized words\"\"\"\n",
        "    new_words = []\n",
        "    for word in words:\n",
        "        if word not in stopwords:\n",
        "            new_words.append(word)\n",
        "    return new_words\n",
        "\n",
        "def lemmatize_list(words):\n",
        "    new_words = []\n",
        "    for word in words:\n",
        "      new_words.append(lemmatizer.lemmatize(word, pos='v'))\n",
        "    return new_words\n",
        "\n",
        "def normalize(words):\n",
        "    words = remove_non_ascii(words)\n",
        "    words = to_lowercase(words)\n",
        "    words = remove_punctuation(words)\n",
        "    words = remove_stopwords(words)\n",
        "    words = lemmatize_list(words)\n",
        "    return ' '.join(words)\n",
        "\n",
        "review_df['Reviews'] = review_df.apply(lambda row: normalize(row['Reviews']), axis=1)\n",
        "review_df.head()"
      ],
      "outputs": [
        {
          "output_type": "display_data",
          "data": {
            "application/vnd.livy.statement-meta+json": {
              "spark_pool": "Hackathon",
              "session_id": "4",
              "statement_id": 12,
              "state": "finished",
              "livy_statement_state": "available",
              "queued_time": "2022-10-07T08:04:16.5754602Z",
              "session_start_time": null,
              "execution_start_time": "2022-10-07T08:08:22.6951703Z",
              "execution_finish_time": "2022-10-07T08:08:24.6231766Z",
              "spark_jobs": null
            },
            "text/plain": "StatementMeta(Hackathon, 4, 12, Finished, Available)"
          },
          "metadata": {}
        },
        {
          "output_type": "stream",
          "name": "stderr",
          "text": [
            "<ipython-input-12-3bd87395>:50: SettingWithCopyWarning: \nA value is trying to be set on a copy of a slice from a DataFrame.\nTry using .loc[row_indexer,col_indexer] = value instead\n\nSee the caveats in the documentation: https://pandas.pydata.org/pandas-docs/stable/user_guide/indexing.html#returning-a-view-versus-a-copy\n  review_df['Reviews'] = review_df.apply(lambda row: normalize(row['Reviews']), axis=1)\n"
          ]
        },
        {
          "output_type": "execute_result",
          "execution_count": 40,
          "data": {
            "text/plain": "                                                                                                                                                                                                                                                                                                                                                                                                                                                                                                                                                                                                                                                                                                                                                                                                                                                                                                                                                                                                                                                                                                                                                 Reviews  \\\n0  overall comment microsoft azure seamless public cloud platform important overall cloud infrastructure web applications cloud platform provide many feature relate big data sql virtual machine aiml many must admit super easy use much effective azure provide free account new users also provide free credit test platform accord really innovative approach azure deployment integration really easy unlike others support team help us throughout deployment integration process hand maintenance cloud platform also costeffective price cloud platform also attractive provide payasyougo feature well enterprise discount option well use payasyougo save cloud cost need pay usage not need commit term volume hand higher discount choose enterprise discount option provide flexibility save also option additional save plan well console platform really great userfriendly use console purchase azure service able shut service well whenever want console provide full information report relate usages also create multiple azure account able add admin account really simple azure console hence overall experience use azure great   \n1                                                                                                                                                                                                                                                                                                                                                                                                                                                                                                                                                                                                                                                                                                                                                                                                                                                                                                                                                                                                        azure perfectly fit organization need not create issue far really happy overall output platform hence time nothing say relate demerits platform   \n2                                                                                                                                                                                                                                                                                                                                                                                                                                                                                                                                                                                                                                                                                                                                                                                                                                                                                                                                                                                                                                                                                        not like microsoft azure update best cloud vendor use ever life   \n3                                                                                                                                                                                                                                                                                                                                                                                                                                                                                                                                                                                                                                                                                                                                                                                         user interface microsoft products extremely userfriendly get stick critical issue help us fix quickly read legal agreement cover azure service notice uptime guarantee offer percent course year translate around hours downtime realtime hours price azure comparable service compete brand offer uptime percentages percent percent occasionally low percent   \n4                                                                                                                                                                                                                                                                                                                                                                                                                                                                                                                                                                                                                                                                                                                                                                                microsoft azure regions worldwide availability countries announce regions include set live unite state europe australia india japan china company benefit quick data access however live south america access one region know brazil south africa two announce regions none operational yet canada two regions locate country east not nearby region speed become issue   \n\n  Sentiment  \n0  Positive  \n1  Positive  \n2  Positive  \n3  Positive  \n4  Negative  ",
            "text/html": "<div>\n<style scoped>\n    .dataframe tbody tr th:only-of-type {\n        vertical-align: middle;\n    }\n\n    .dataframe tbody tr th {\n        vertical-align: top;\n    }\n\n    .dataframe thead th {\n        text-align: right;\n    }\n</style>\n<table border=\"1\" class=\"dataframe\">\n  <thead>\n    <tr style=\"text-align: right;\">\n      <th></th>\n      <th>Reviews</th>\n      <th>Sentiment</th>\n    </tr>\n  </thead>\n  <tbody>\n    <tr>\n      <th>0</th>\n      <td>overall comment microsoft azure seamless public cloud platform important overall cloud infrastructure web applications cloud platform provide many feature relate big data sql virtual machine aiml many must admit super easy use much effective azure provide free account new users also provide free credit test platform accord really innovative approach azure deployment integration really easy unlike others support team help us throughout deployment integration process hand maintenance cloud platform also costeffective price cloud platform also attractive provide payasyougo feature well enterprise discount option well use payasyougo save cloud cost need pay usage not need commit term volume hand higher discount choose enterprise discount option provide flexibility save also option additional save plan well console platform really great userfriendly use console purchase azure service able shut service well whenever want console provide full information report relate usages also create multiple azure account able add admin account really simple azure console hence overall experience use azure great</td>\n      <td>Positive</td>\n    </tr>\n    <tr>\n      <th>1</th>\n      <td>azure perfectly fit organization need not create issue far really happy overall output platform hence time nothing say relate demerits platform</td>\n      <td>Positive</td>\n    </tr>\n    <tr>\n      <th>2</th>\n      <td>not like microsoft azure update best cloud vendor use ever life</td>\n      <td>Positive</td>\n    </tr>\n    <tr>\n      <th>3</th>\n      <td>user interface microsoft products extremely userfriendly get stick critical issue help us fix quickly read legal agreement cover azure service notice uptime guarantee offer percent course year translate around hours downtime realtime hours price azure comparable service compete brand offer uptime percentages percent percent occasionally low percent</td>\n      <td>Positive</td>\n    </tr>\n    <tr>\n      <th>4</th>\n      <td>microsoft azure regions worldwide availability countries announce regions include set live unite state europe australia india japan china company benefit quick data access however live south america access one region know brazil south africa two announce regions none operational yet canada two regions locate country east not nearby region speed become issue</td>\n      <td>Negative</td>\n    </tr>\n  </tbody>\n</table>\n</div>"
          },
          "metadata": {}
        }
      ],
      "execution_count": 12,
      "metadata": {
        "jupyter": {
          "outputs_hidden": true
        }
      }
    },
    {
      "cell_type": "markdown",
      "source": [
        "### Since ML Models dont work directly on Text ,We are doing feature represtation to convert text into frequency of words."
      ],
      "metadata": {
        "nteract": {
          "transient": {
            "deleting": false
          }
        }
      }
    },
    {
      "cell_type": "code",
      "source": [
        "# Vectorization (Convert text data to numbers).\n",
        "from sklearn.feature_extraction.text import CountVectorizer\n",
        "\n",
        "vectorizer = CountVectorizer(max_features=5000)                # Keep only 5000 features as number of features will increase the processing time.\n",
        "data_features = vectorizer.fit_transform(review_df['Reviews'])\n",
        "\n",
        "data_features = data_features.toarray()                        # Convert the data features to array.\n",
        "data_features.shape"
      ],
      "outputs": [
        {
          "output_type": "display_data",
          "data": {
            "application/vnd.livy.statement-meta+json": {
              "spark_pool": "Hackathon",
              "session_id": "4",
              "statement_id": 13,
              "state": "finished",
              "livy_statement_state": "available",
              "queued_time": "2022-10-07T08:04:16.5782811Z",
              "session_start_time": null,
              "execution_start_time": "2022-10-07T08:08:24.7167969Z",
              "execution_finish_time": "2022-10-07T08:08:24.8912687Z",
              "spark_jobs": null
            },
            "text/plain": "StatementMeta(Hackathon, 4, 13, Finished, Available)"
          },
          "metadata": {}
        },
        {
          "output_type": "execute_result",
          "execution_count": 43,
          "data": {
            "text/plain": "(65, 652)"
          },
          "metadata": {}
        }
      ],
      "execution_count": 13,
      "metadata": {}
    },
    {
      "cell_type": "markdown",
      "source": [
        "### Modeling Part"
      ],
      "metadata": {
        "nteract": {
          "transient": {
            "deleting": false
          }
        }
      }
    },
    {
      "cell_type": "code",
      "source": [
        "# Split data into training and testing set.\n",
        "\n",
        "from sklearn.model_selection import train_test_split\n",
        "X = data_features\n",
        "y = review_df.Sentiment\n",
        "X_train, X_test, y_train, y_test = train_test_split(X, y, test_size=0.3, random_state=42)"
      ],
      "outputs": [
        {
          "output_type": "display_data",
          "data": {
            "application/vnd.livy.statement-meta+json": {
              "spark_pool": "Hackathon",
              "session_id": "4",
              "statement_id": 14,
              "state": "finished",
              "livy_statement_state": "available",
              "queued_time": "2022-10-07T08:04:16.5813141Z",
              "session_start_time": null,
              "execution_start_time": "2022-10-07T08:08:25.0873679Z",
              "execution_finish_time": "2022-10-07T08:08:25.2561829Z",
              "spark_jobs": null
            },
            "text/plain": "StatementMeta(Hackathon, 4, 14, Finished, Available)"
          },
          "metadata": {}
        }
      ],
      "execution_count": 14,
      "metadata": {}
    },
    {
      "cell_type": "code",
      "source": [
        "# Using Random Forest to build model for the classification of reviews.\n",
        "# Also calculating the cross validation score.\n",
        "\n",
        "from sklearn.ensemble import RandomForestClassifier\n",
        "from sklearn.model_selection import cross_val_score\n",
        "\n",
        "forestModel = RandomForestClassifier(n_estimators=10, n_jobs=4)\n",
        "\n",
        "forestModel = forestModel.fit(X_train, y_train)\n",
        "\n",
        "print(forestModel)\n",
        "\n",
        "print(np.mean(cross_val_score(forestModel, X, y, cv=10)))"
      ],
      "outputs": [
        {
          "output_type": "display_data",
          "data": {
            "application/vnd.livy.statement-meta+json": {
              "spark_pool": "Hackathon",
              "session_id": "4",
              "statement_id": 15,
              "state": "finished",
              "livy_statement_state": "available",
              "queued_time": "2022-10-07T08:04:16.5842067Z",
              "session_start_time": null,
              "execution_start_time": "2022-10-07T08:08:25.3679833Z",
              "execution_finish_time": "2022-10-07T08:08:27.360966Z",
              "spark_jobs": null
            },
            "text/plain": "StatementMeta(Hackathon, 4, 15, Finished, Available)"
          },
          "metadata": {}
        },
        {
          "output_type": "stream",
          "name": "stdout",
          "text": [
            "RandomForestClassifier(n_estimators=10, n_jobs=4)\n0.7047619047619048\n"
          ]
        }
      ],
      "execution_count": 15,
      "metadata": {}
    },
    {
      "cell_type": "code",
      "source": [
        "# Predict the result for test data using the model built above.\n",
        "\n",
        "result = forestModel.predict(X_test)"
      ],
      "outputs": [
        {
          "output_type": "display_data",
          "data": {
            "application/vnd.livy.statement-meta+json": {
              "spark_pool": "Hackathon",
              "session_id": "4",
              "statement_id": 16,
              "state": "finished",
              "livy_statement_state": "available",
              "queued_time": "2022-10-07T08:04:16.586636Z",
              "session_start_time": null,
              "execution_start_time": "2022-10-07T08:08:27.4665722Z",
              "execution_finish_time": "2022-10-07T08:08:27.6393173Z",
              "spark_jobs": null
            },
            "text/plain": "StatementMeta(Hackathon, 4, 16, Finished, Available)"
          },
          "metadata": {}
        }
      ],
      "execution_count": 16,
      "metadata": {}
    },
    {
      "cell_type": "code",
      "source": [
        "# Print and plot Confusion matirx to get an idea of how the distribution of the prediction is, among all the classes.\n",
        "\n",
        "import matplotlib.pyplot as plt\n",
        "import seaborn as sns\n",
        "from sklearn.metrics import confusion_matrix\n",
        "\n",
        "conf_mat = confusion_matrix(y_test, result)\n",
        "\n",
        "print(conf_mat)\n",
        "\n",
        "df_cm = pd.DataFrame(conf_mat, index = [i for i in ['Positive', 'Negative']],\n",
        "                  columns = [i for i in ['Positive', 'Negative']])\n",
        "plt.figure(figsize = (10,7))\n",
        "sns.heatmap(df_cm, annot=True, fmt='g')"
      ],
      "outputs": [
        {
          "output_type": "display_data",
          "data": {
            "application/vnd.livy.statement-meta+json": {
              "spark_pool": "Hackathon",
              "session_id": "4",
              "statement_id": 17,
              "state": "finished",
              "livy_statement_state": "available",
              "queued_time": "2022-10-07T08:04:16.5890672Z",
              "session_start_time": null,
              "execution_start_time": "2022-10-07T08:08:27.7552199Z",
              "execution_finish_time": "2022-10-07T08:08:29.6522036Z",
              "spark_jobs": null
            },
            "text/plain": "StatementMeta(Hackathon, 4, 17, Finished, Available)"
          },
          "metadata": {}
        },
        {
          "output_type": "stream",
          "name": "stdout",
          "text": [
            "[[10  1]\n [ 6  3]]\n"
          ]
        },
        {
          "output_type": "execute_result",
          "execution_count": 55,
          "data": {
            "text/plain": "<AxesSubplot:>"
          },
          "metadata": {}
        },
        {
          "output_type": "display_data",
          "data": {
            "text/plain": "<Figure size 720x504 with 2 Axes>",
            "image/png": "[encoded data removed]"
          },
          "metadata": {
            "needs_background": "light"
          }
        }
      ],
      "execution_count": 17,
      "metadata": {
        "jupyter": {
          "outputs_hidden": false
        }
      }
    },
    {
      "cell_type": "code",
      "source": [
        "# Using TfidfVectorizer to convert text data to numbers.\n",
        "\n",
        "from sklearn.feature_extraction.text import TfidfVectorizer\n",
        "\n",
        "vectorizer = TfidfVectorizer(max_features=5000)\n",
        "data_features = vectorizer.fit_transform(review_df['Reviews'])\n",
        "\n",
        "data_features = data_features.toarray()\n",
        "\n",
        "data_features.shape"
      ],
      "outputs": [
        {
          "output_type": "display_data",
          "data": {
            "application/vnd.livy.statement-meta+json": {
              "spark_pool": "Hackathon",
              "session_id": "4",
              "statement_id": 18,
              "state": "finished",
              "livy_statement_state": "available",
              "queued_time": "2022-10-07T08:04:16.5917062Z",
              "session_start_time": null,
              "execution_start_time": "2022-10-07T08:08:29.7590473Z",
              "execution_finish_time": "2022-10-07T08:08:29.9311771Z",
              "spark_jobs": null
            },
            "text/plain": "StatementMeta(Hackathon, 4, 18, Finished, Available)"
          },
          "metadata": {}
        },
        {
          "output_type": "execute_result",
          "execution_count": 58,
          "data": {
            "text/plain": "(65, 652)"
          },
          "metadata": {}
        }
      ],
      "execution_count": 18,
      "metadata": {}
    },
    {
      "cell_type": "code",
      "source": [
        "# Using Random Forest to build model for the classification of reviews.\n",
        "# Also calculating the cross validation score.\n",
        "\n",
        "from sklearn.ensemble import RandomForestClassifier\n",
        "from sklearn.model_selection import cross_val_score\n",
        "\n",
        "import numpy as np\n",
        "\n",
        "forestModel = RandomForestClassifier(n_estimators=10, n_jobs=4)\n",
        "\n",
        "forestModel = forestModel.fit(X_train, y_train)\n",
        "\n",
        "print(forestModel)\n",
        "\n",
        "print(np.mean(cross_val_score(forestModel, X, y, cv=10)))"
      ],
      "outputs": [
        {
          "output_type": "display_data",
          "data": {
            "application/vnd.livy.statement-meta+json": {
              "spark_pool": "Hackathon",
              "session_id": "4",
              "statement_id": 19,
              "state": "finished",
              "livy_statement_state": "available",
              "queued_time": "2022-10-07T08:04:16.5947456Z",
              "session_start_time": null,
              "execution_start_time": "2022-10-07T08:08:30.1015838Z",
              "execution_finish_time": "2022-10-07T08:08:30.6304709Z",
              "spark_jobs": null
            },
            "text/plain": "StatementMeta(Hackathon, 4, 19, Finished, Available)"
          },
          "metadata": {}
        },
        {
          "output_type": "stream",
          "name": "stdout",
          "text": [
            "RandomForestClassifier(n_estimators=10, n_jobs=4)\n0.7357142857142858\n"
          ]
        }
      ],
      "execution_count": 19,
      "metadata": {}
    },
    {
      "cell_type": "code",
      "source": [
        "result = forestModel.predict(X_test)"
      ],
      "outputs": [
        {
          "output_type": "display_data",
          "data": {
            "application/vnd.livy.statement-meta+json": {
              "spark_pool": "Hackathon",
              "session_id": "4",
              "statement_id": 20,
              "state": "finished",
              "livy_statement_state": "available",
              "queued_time": "2022-10-07T08:04:16.597389Z",
              "session_start_time": null,
              "execution_start_time": "2022-10-07T08:08:30.7329384Z",
              "execution_finish_time": "2022-10-07T08:08:30.9153907Z",
              "spark_jobs": null
            },
            "text/plain": "StatementMeta(Hackathon, 4, 20, Finished, Available)"
          },
          "metadata": {}
        }
      ],
      "execution_count": 20,
      "metadata": {}
    },
    {
      "cell_type": "markdown",
      "source": [],
      "metadata": {
        "nteract": {
          "transient": {
            "deleting": false
          }
        }
      }
    },
    {
      "cell_type": "markdown",
      "source": [
        "### Topic Modeling.\r\n",
        "- Clustering reviews into topics."
      ],
      "metadata": {
        "nteract": {
          "transient": {
            "deleting": false
          }
        }
      }
    },
    {
      "cell_type": "code",
      "source": [
        "import gensim\n",
        "from gensim.models.ldamulticore import LdaMulticore\n",
        "from gensim import corpora, models\n",
        "#import pyLDAvis.gensim\n",
        "from nltk.corpus import stopwords\n",
        "import string\n",
        "from nltk.stem.wordnet import WordNetLemmatizer\n",
        "nltk.download('stopwords')\n",
        "nltk.download('wordnet')\n",
        "import warnings\n",
        "warnings.simplefilter('ignore')\n",
        "from itertools import chain"
      ],
      "outputs": [
        {
          "output_type": "display_data",
          "data": {
            "application/vnd.livy.statement-meta+json": {
              "spark_pool": "Hackathon",
              "session_id": "4",
              "statement_id": 21,
              "state": "finished",
              "livy_statement_state": "available",
              "queued_time": "2022-10-07T08:04:16.599881Z",
              "session_start_time": null,
              "execution_start_time": "2022-10-07T08:08:31.0258306Z",
              "execution_finish_time": "2022-10-07T08:08:32.1846553Z",
              "spark_jobs": null
            },
            "text/plain": "StatementMeta(Hackathon, 4, 21, Finished, Available)"
          },
          "metadata": {}
        },
        {
          "output_type": "stream",
          "name": "stderr",
          "text": [
            "[nltk_data] Downloading package stopwords to /home/trusted-service-\n[nltk_data]     user/nltk_data...\n[nltk_data]   Package stopwords is already up-to-date!\n[nltk_data] Downloading package wordnet to /home/trusted-service-\n[nltk_data]     user/nltk_data...\n[nltk_data]   Package wordnet is already up-to-date!\n"
          ]
        }
      ],
      "execution_count": 21,
      "metadata": {
        "jupyter": {
          "outputs_hidden": true
        }
      }
    },
    {
      "cell_type": "code",
      "source": [
        "review_df1 = pd.DataFrame()\n",
        "review_df1['Reviews_clean'] = review_df.apply(lambda row: nltk.word_tokenize(row['Reviews']), axis=1) # Tokenization of data\n",
        "review_df1\n",
        "dictionary = corpora.Dictionary(review_df1['Reviews_clean'])\n",
        "print(dictionary.num_nnz)\n",
        "doc_term_matrix = [dictionary.doc2bow(doc) for doc in review_df1['Reviews_clean']]\n",
        "print(len(doc_term_matrix))"
      ],
      "outputs": [
        {
          "output_type": "display_data",
          "data": {
            "application/vnd.livy.statement-meta+json": {
              "spark_pool": "Hackathon",
              "session_id": "4",
              "statement_id": 22,
              "state": "finished",
              "livy_statement_state": "available",
              "queued_time": "2022-10-07T08:04:16.602733Z",
              "session_start_time": null,
              "execution_start_time": "2022-10-07T08:08:32.3063096Z",
              "execution_finish_time": "2022-10-07T08:08:32.5497712Z",
              "spark_jobs": null
            },
            "text/plain": "StatementMeta(Hackathon, 4, 22, Finished, Available)"
          },
          "metadata": {}
        },
        {
          "output_type": "stream",
          "name": "stdout",
          "text": [
            "1226\n65\n"
          ]
        }
      ],
      "execution_count": 22,
      "metadata": {
        "jupyter": {
          "outputs_hidden": true
        }
      }
    },
    {
      "cell_type": "code",
      "source": [
        "#LDA modeling\r\n",
        "lda = gensim.models.ldamodel.LdaModel\r\n",
        "%time ldamodel = lda(doc_term_matrix,num_topics=8,id2word=dictionary,passes=50,minimum_probability=0)"
      ],
      "outputs": [
        {
          "output_type": "display_data",
          "data": {
            "application/vnd.livy.statement-meta+json": {
              "spark_pool": "Hackathon",
              "session_id": "4",
              "statement_id": 23,
              "state": "finished",
              "livy_statement_state": "available",
              "queued_time": "2022-10-07T08:04:16.6052102Z",
              "session_start_time": null,
              "execution_start_time": "2022-10-07T08:08:32.654059Z",
              "execution_finish_time": "2022-10-07T08:08:34.5125664Z",
              "spark_jobs": null
            },
            "text/plain": "StatementMeta(Hackathon, 4, 23, Finished, Available)"
          },
          "metadata": {}
        },
        {
          "output_type": "stream",
          "name": "stdout",
          "text": [
            "CPU times: user 1.53 s, sys: 0 ns, total: 1.53 s\nWall time: 1.53 s\n"
          ]
        }
      ],
      "execution_count": 23,
      "metadata": {}
    },
    {
      "cell_type": "code",
      "source": [
        "'''\n",
        "For each topic, we will explore the words occuring in that topic and its relative weight\n",
        "'''\n",
        "for idx, topic in ldamodel.print_topics(-1):\n",
        "    print(\"Topic: {} \\nWords: {}\".format(idx, topic ))\n",
        "    print(\"\\n\")"
      ],
      "outputs": [
        {
          "output_type": "display_data",
          "data": {
            "application/vnd.livy.statement-meta+json": {
              "spark_pool": "Hackathon",
              "session_id": "4",
              "statement_id": 24,
              "state": "finished",
              "livy_statement_state": "available",
              "queued_time": "2022-10-07T08:04:16.6078002Z",
              "session_start_time": null,
              "execution_start_time": "2022-10-07T08:08:34.6352304Z",
              "execution_finish_time": "2022-10-07T08:08:34.8076567Z",
              "spark_jobs": null
            },
            "text/plain": "StatementMeta(Hackathon, 4, 24, Finished, Available)"
          },
          "metadata": {}
        },
        {
          "output_type": "stream",
          "name": "stdout",
          "text": [
            "Topic: 0 \nWords: 0.040*\"azure\" + 0.018*\"like\" + 0.015*\"price\" + 0.015*\"microsoft\" + 0.015*\"feature\" + 0.015*\"regions\" + 0.015*\"cloud\" + 0.011*\"cost\" + 0.011*\"sync\" + 0.011*\"platform\"\n\n\nTopic: 1 \nWords: 0.033*\"azure\" + 0.022*\"use\" + 0.020*\"not\" + 0.020*\"platform\" + 0.020*\"cloud\" + 0.019*\"really\" + 0.017*\"support\" + 0.017*\"price\" + 0.015*\"provide\" + 0.015*\"also\"\n\n\nTopic: 2 \nWords: 0.045*\"cloud\" + 0.041*\"microsoft\" + 0.029*\"azure\" + 0.023*\"host\" + 0.023*\"use\" + 0.019*\"not\" + 0.015*\"service\" + 0.015*\"compute\" + 0.012*\"get\" + 0.012*\"scale\"\n\n\nTopic: 3 \nWords: 0.036*\"azure\" + 0.016*\"get\" + 0.016*\"percent\" + 0.012*\"microsoft\" + 0.012*\"offer\" + 0.012*\"support\" + 0.012*\"resource\" + 0.012*\"delete\" + 0.012*\"issue\" + 0.008*\"cloud\"\n\n\nTopic: 4 \nWords: 0.044*\"azure\" + 0.017*\"cloud\" + 0.017*\"not\" + 0.014*\"best\" + 0.010*\"go\" + 0.010*\"platform\" + 0.010*\"get\" + 0.010*\"microsoft\" + 0.010*\"one\" + 0.010*\"aws\"\n\n\nTopic: 5 \nWords: 0.032*\"azure\" + 0.027*\"platform\" + 0.022*\"not\" + 0.022*\"microsoft\" + 0.016*\"back\" + 0.011*\"time\" + 0.011*\"good\" + 0.011*\"go\" + 0.011*\"need\" + 0.011*\"well\"\n\n\nTopic: 6 \nWords: 0.025*\"azure\" + 0.022*\"come\" + 0.017*\"get\" + 0.015*\"service\" + 0.011*\"shame\" + 0.011*\"secure\" + 0.011*\"microsoft\" + 0.011*\"business\" + 0.006*\"nice\" + 0.006*\"answer\"\n\n\nTopic: 7 \nWords: 0.029*\"issue\" + 0.029*\"azure\" + 0.018*\"one\" + 0.018*\"contact\" + 0.018*\"email\" + 0.018*\"etc\" + 0.012*\"time\" + 0.012*\"first\" + 0.012*\"get\" + 0.012*\"still\"\n\n\n"
          ]
        }
      ],
      "execution_count": 24,
      "metadata": {}
    }
  ],
  "metadata": {
    "kernelspec": {
      "name": "synapse_pyspark",
      "language": "Python",
      "display_name": "Synapse PySpark"
    },
    "language_info": {
      "name": "python"
    },
    "kernel_info": {
      "name": "synapse_pyspark"
    },
    "save_output": true,
    "synapse_widget": {
      "version": "0.1",
      "state": {}
    }
  },
  "nbformat": 4,
  "nbformat_minor": 2
}