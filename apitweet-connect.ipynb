{
  "cells": [
    {
      "cell_type": "code",
      "source": [
        "import tweepy\r\n",
        "from tweepy.auth import OAuthHandler\r\n",
        "from tweepy import Stream\r\n",
        "from tweepy.streaming import StreamListener\r\n",
        "import socket\r\n",
        "import json"
      ],
      "outputs": [],
      "execution_count": null,
      "metadata": {
        "jupyter": {
          "source_hidden": false,
          "outputs_hidden": false
        },
        "nteract": {
          "transient": {
            "deleting": false
          }
        }
      }
    },
    {
      "cell_type": "code",
      "source": [
        "# Connect twitter with Topic \r\n",
        "def get_tweets(c_socket,\r\n",
        "                consumer_key,\r\n",
        "                consumer_secret,\r\n",
        "                access_token,\r\n",
        "                access_secret):\r\n",
        "    auth = OAuthHandler(consumer_key, consumer_secret)\r\n",
        "    auth.set_access_token(access_token, access_secret)\r\n",
        "    \r\n",
        "    twitter_stream = Stream(auth, TweetsListener(c_socket))\r\n",
        "    twitter_stream.filter(track=['Azure']) #we are interested in this topic."
      ],
      "outputs": [],
      "execution_count": null,
      "metadata": {
        "jupyter": {
          "source_hidden": false,
          "outputs_hidden": false
        },
        "nteract": {
          "transient": {
            "deleting": false
          }
        }
      }
    },
    {
      "cell_type": "code",
      "source": [
        "class TweetsAPIGet(StreamListener):\r\n",
        "    def __init__(self, csocket):\r\n",
        "        self.client_socket = csocket\r\n",
        "    def on_data(self, data):\r\n",
        "        try:\r\n",
        "            message = json.loads( data )\r\n",
        "            print( message['text'].encode('utf-8') )\r\n",
        "            self.client_socket.send( message['text'].encode('utf-8') )\r\n",
        "            return True\r\n",
        "        except BaseException as e:\r\n",
        "            print(\"Error on_data: %s\" % str(e))\r\n",
        "        return True\r\n",
        "\r\n",
        "    def if_error(self, status):\r\n",
        "        print(status)\r\n",
        "        return True"
      ],
      "outputs": [
        {
          "output_type": "display_data",
          "data": {
            "application/vnd.livy.statement-meta+json": {
              "spark_pool": null,
              "session_id": null,
              "statement_id": null,
              "state": "cancelled",
              "livy_statement_state": null,
              "queued_time": "2022-10-07T09:13:25.0970861Z",
              "session_start_time": null,
              "execution_start_time": null,
              "execution_finish_time": "2022-10-07T09:16:46.7984328Z",
              "spark_jobs": null
            },
            "text/plain": "StatementMeta(, , , Cancelled, )"
          },
          "metadata": {}
        }
      ],
      "execution_count": null,
      "metadata": {
        "jupyter": {
          "source_hidden": false,
          "outputs_hidden": false
        },
        "nteract": {
          "transient": {
            "deleting": false
          }
        }
      }
    },
    {
      "cell_type": "code",
      "source": [
        "if __name__ == \"__main__\":\r\n",
        "    tweetSocStart = socket.socket()    \r\n",
        "    tweetSocStart.listen(5)                 \r\n",
        "    c, addr = tweetSocStart.accept() \r\n",
        "    get_tweets(c)"
      ],
      "outputs": [],
      "execution_count": null,
      "metadata": {
        "jupyter": {
          "source_hidden": false,
          "outputs_hidden": false
        },
        "nteract": {
          "transient": {
            "deleting": false
          }
        }
      }
    }
  ],
  "metadata": {
    "language_info": {
      "name": "python"
    },
    "kernelspec": {
      "name": "synapse_pyspark",
      "language": "Python",
      "display_name": "Synapse PySpark"
    },
    "kernel_info": {
      "name": "synapse_pyspark"
    },
    "save_output": true,
    "synapse_widget": {
      "version": "0.1",
      "state": {}
    }
  },
  "nbformat": 4,
  "nbformat_minor": 2
}